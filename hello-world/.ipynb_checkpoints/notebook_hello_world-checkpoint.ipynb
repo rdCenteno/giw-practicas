{
 "cells": [
  {
   "cell_type": "code",
   "execution_count": 1,
   "metadata": {},
   "outputs": [
    {
     "name": "stdout",
     "output_type": "stream",
     "text": [
      "This is the first example, hello world\n",
      "Hello World!!!\n"
     ]
    }
   ],
   "source": [
    "print(\"This is the first example, hello world\")\n",
    "hello = \"Hello World!!!\"\n",
    "print(hello);"
   ]
  },
  {
   "cell_type": "code",
   "execution_count": 2,
   "metadata": {},
   "outputs": [
    {
     "name": "stdout",
     "output_type": "stream",
     "text": [
      "Second example, input from user and condition\n",
      "Enter a name please: Arturo\n",
      "Your name is  Arturo\n",
      "End of the example\n"
     ]
    }
   ],
   "source": [
    "print(\"Second example, input from user and condition\")\n",
    "name = input(\"Enter a name please: \")\n",
    "if len(name) > 0:\n",
    "    print(\"Your name is \", name)\n",
    "else:\n",
    "    print(\"Error: You did not introduce a valid name\")\n",
    "print(\"End of the example\")"
   ]
  },
  {
   "cell_type": "code",
   "execution_count": 3,
   "metadata": {},
   "outputs": [
    {
     "name": "stdout",
     "output_type": "stream",
     "text": [
      "Probando git y sourcetree\n"
     ]
    }
   ],
   "source": [
    "print(\"Probando git y sourcetree\")"
   ]
  },
  {
   "cell_type": "code",
   "execution_count": null,
   "metadata": {},
   "outputs": [],
   "source": [
    "\n"
   ]
  }
 ],
 "metadata": {
  "kernelspec": {
   "display_name": "Python 3",
   "language": "python",
   "name": "python3"
  },
  "language_info": {
   "codemirror_mode": {
    "name": "ipython",
    "version": 3
   },
   "file_extension": ".py",
   "mimetype": "text/x-python",
   "name": "python",
   "nbconvert_exporter": "python",
   "pygments_lexer": "ipython3",
   "version": "3.7.3"
  }
 },
 "nbformat": 4,
 "nbformat_minor": 2
}
