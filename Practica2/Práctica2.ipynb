{
 "cells": [
  {
   "cell_type": "markdown",
   "metadata": {},
   "source": [
    "### Práctica de Formatos de datos: CSV y JSON"
   ]
  },
  {
   "cell_type": "markdown",
   "metadata": {},
   "source": [
    "#### Ejercicio 1[5 puntos]\n",
    "Considerar el archivo __Contaminación.csv__. El archivo contiene la información recogida por las estaciones de control de calidad del aire durante el año 2019.\n",
    "\n",
    "Una descripción detallada de la estructura de los datos se puede encontrar en el siguiente enlace: https://datos.madrid.es/FWProjects/egob/Catalogo/MedioAmbiente/Aire/Ficheros/Interprete_ficheros_%20calidad_%20del_%20aire_global.pdf\n",
    "\n",
    "La información contenida por columnas es la siguiente:\n",
    "* __PROVINCIA__: Código numérico que representa la provincia. \n",
    "* __MUNICIPIO__: Código numérico que representa el municipio. \n",
    "* __ESTACIÓN__: Código numérico de hasta dos dígitos que representa la estación. Consultar ANEXO I de la documentación\n",
    "* __MAGNITUD__: Código numérico de hasta dos dígitos que representa la magnitud.Consultar ANEXO II de la documentación\n",
    "* __PUNTO MUESTREO__: Código numérico formado por 3 subcódigos. El primer código representa la estación, el segundo código representa la magnitud, y el tercer código representa la técnica de medida.\n",
    "* __MES__: Mes de la toma de datos. Valor entre 1 y 12.\n",
    "* __D01-D31__: Medidas tomadas desde el día D01 hasta el día D31 del mes correspondiente.\n",
    "* __V01-V31__: Validez de las medidas tomadas desde el día D01 hasta el día D31 del mes correspondiente. Puede valer V(Válido), N(No válido), no se conoce(vacío) o bien otra cadena(se considera incorrecto).\n",
    "\n",
    "\n",
    "Se pide crear un programa que realice las siguientes operaciones:\n",
    "* Leer los datos del archivo __Contaminación.csv__\n",
    "* Transformar los datos leidos de manera que aquellos valores que no sean válidos (\"N\") su valor sea sustituido por 0.\n",
    "* Obtener y  mostrar por pantalla para cada tipo de contaminante (columna Magnitud) y para cada estación (columna ESTACIÓN), la suma total de la contaminación que se ha producido durante el año 2019, es decir:\n",
    "\n",
    "|Estación|Contaminante1| Contaminante2| Contaminante3| ....Contaminanten|\n",
    "|----|-------------|-------------|-------------|-------------|\n",
    "|Estación1|Subtotal11 |--- |--- |Subtotal1n|  \n",
    "|Estación2|--- |--- |--- |--- | \n",
    "|   ...|--- |--- |--- |--- |     \n",
    "|Estaciónn|Subtotal1n |--- |--- |Subtotalnn| \n",
    "     \n",
    "* Generar un documento __Salida.csv__ donde cada línea del documento contiene la siguiente información:\n",
    "    Estación1, Contaminante1,Subtotal1, Contaminante2,Subtotal2,......................,Contaminanten,Subtotaln\n",
    "    \n",
    "    Estaciónm, Contaminante1,Subtotal1, Contaminante2,Subtotal2,......................,Contaminanten,Subtotaln\n",
    "    \n",
    "Tanto en lo que mostréis por pantalla como lo que escribáis en el archivo usad los nombres de los contaminantes y de las estaciones que aparecen en los anexos de la documentación indicada más arriba.\n",
    "    "
   ]
  },
  {
   "cell_type": "markdown",
   "metadata": {},
   "source": [
    "Para leer los archivos usa un código como el siguiente:"
   ]
  },
  {
   "cell_type": "code",
   "execution_count": 103,
   "metadata": {},
   "outputs": [
    {
     "name": "stdout",
     "output_type": "stream",
     "text": [
      "Estacion 4 Contaminante 1 Total acumulado 2016.0 Contaminante 6 Total acumulado 104.99999999999984 Contaminante 7 Total acumulado 6373.0 Contaminante 8 Total acumulado 10392.0 Contaminante 12 Total acumulado 20147.0 /n Estacion 8 Contaminante 1 Total acumulado 2098.0 Contaminante 6 Total acumulado 46.700000000000145 Contaminante 7 Total acumulado 4819.0 Contaminante 8 Total acumulado 12109.0 Contaminante 9 Total acumulado 2595.0 Contaminante 10 Total acumulado 5230.0 Contaminante 12 Total acumulado 19486.0 Contaminante 14 Total acumulado 12049.0 Contaminante 20 Total acumulado 632.9000000000001 Contaminante 30 Total acumulado 146.8000000000002 Contaminante 35 Total acumulado 113.50000000000009 Contaminante 42 Total acumulado 375.07000000000016 Contaminante 43 Total acumulado 352.2100000000001 Contaminante 44 Total acumulado 23.12 /n Estacion 11 Contaminante 7 Total acumulado 3417.0 Contaminante 8 Total acumulado 9288.0 Contaminante 12 Total acumulado 14549.0 Contaminante 20 Total acumulado 396.3999999999997 Contaminante 30 Total acumulado 92.00000000000001 Contaminante 35 Total acumulado 69.30000000000014 /n Estacion 16 Contaminante 6 Total acumulado 71.00000000000024 Contaminante 7 Total acumulado 2647.0 Contaminante 8 Total acumulado 8131.0 Contaminante 12 Total acumulado 12195.0 Contaminante 14 Total acumulado 9343.0 /n Estacion 17 Contaminante 1 Total acumulado 2017.0 Contaminante 7 Total acumulado 7030.0 Contaminante 8 Total acumulado 9433.0 Contaminante 12 Total acumulado 20215.0 Contaminante 14 Total acumulado 13818.0 /n Estacion 18 Contaminante 1 Total acumulado 2811.0 Contaminante 6 Total acumulado 116.79999999999973 Contaminante 7 Total acumulado 3370.0 Contaminante 8 Total acumulado 7724.0 Contaminante 10 Total acumulado 3727.0 Contaminante 12 Total acumulado 12894.0 Contaminante 14 Total acumulado 15462.0 Contaminante 20 Total acumulado 394.8 Contaminante 30 Total acumulado 83.29999999999991 Contaminante 35 Total acumulado 68.1000000000002 /n Estacion 24 Contaminante 1 Total acumulado 1103.0 Contaminante 6 Total acumulado 51.00000000000023 Contaminante 7 Total acumulado 1427.0 Contaminante 8 Total acumulado 4843.0 Contaminante 9 Total acumulado 2331.0 Contaminante 10 Total acumulado 3252.0 Contaminante 12 Total acumulado 7030.0 Contaminante 14 Total acumulado 16209.0 Contaminante 20 Total acumulado 278.5 Contaminante 30 Total acumulado 78.89999999999995 Contaminante 35 Total acumulado 42.600000000000215 Contaminante 42 Total acumulado 307.67000000000013 Contaminante 43 Total acumulado 291.9799999999999 Contaminante 44 Total acumulado 15.76000000000001 /n Estacion 27 Contaminante 7 Total acumulado 3002.0 Contaminante 8 Total acumulado 8076.0 Contaminante 12 Total acumulado 12677.0 Contaminante 14 Total acumulado 14392.0 /n Estacion 35 Contaminante 1 Total acumulado 3051.0 Contaminante 6 Total acumulado 97.90000000000015 Contaminante 7 Total acumulado 4068.0 Contaminante 8 Total acumulado 8304.0 Contaminante 12 Total acumulado 14542.0 Contaminante 14 Total acumulado 11870.0 /n Estacion 36 Contaminante 1 Total acumulado 2368.0 Contaminante 6 Total acumulado 76.4000000000002 Contaminante 7 Total acumulado 3572.0 Contaminante 8 Total acumulado 8521.0 Contaminante 10 Total acumulado 5059.0 Contaminante 12 Total acumulado 13995.0 /n Estacion 38 Contaminante 1 Total acumulado 2304.0 Contaminante 7 Total acumulado 4235.0 Contaminante 8 Total acumulado 8510.0 Contaminante 9 Total acumulado 2230.0 Contaminante 10 Total acumulado 4611.0 Contaminante 12 Total acumulado 14986.0 Contaminante 20 Total acumulado 423.39999999999975 Contaminante 30 Total acumulado 107.80000000000003 Contaminante 35 Total acumulado 315.20000000000016 /n Estacion 39 Contaminante 6 Total acumulado 77.00000000000016 Contaminante 7 Total acumulado 4605.0 Contaminante 8 Total acumulado 8492.0 Contaminante 12 Total acumulado 15536.0 Contaminante 14 Total acumulado 14484.0 /n Estacion 40 Contaminante 1 Total acumulado 2307.0 Contaminante 7 Total acumulado 3012.0 Contaminante 8 Total acumulado 8459.0 Contaminante 10 Total acumulado 4313.0 Contaminante 12 Total acumulado 13080.0 /n Estacion 47 Contaminante 7 Total acumulado 3387.0 Contaminante 8 Total acumulado 7637.0 Contaminante 9 Total acumulado 2202.0 Contaminante 10 Total acumulado 4238.0 Contaminante 12 Total acumulado 12838.0 /n Estacion 48 Contaminante 7 Total acumulado 2411.0 Contaminante 8 Total acumulado 7912.0 Contaminante 9 Total acumulado 2305.0 Contaminante 10 Total acumulado 4618.0 Contaminante 12 Total acumulado 11604.0 /n Estacion 49 Contaminante 7 Total acumulado 1775.0 Contaminante 8 Total acumulado 5781.0 Contaminante 12 Total acumulado 8517.0 Contaminante 14 Total acumulado 14941.0 /n Estacion 50 Contaminante 7 Total acumulado 3670.0 Contaminante 8 Total acumulado 8840.0 Contaminante 9 Total acumulado 2261.0 Contaminante 10 Total acumulado 4830.0 Contaminante 12 Total acumulado 14454.0 /n Estacion 54 Contaminante 7 Total acumulado 3466.0 Contaminante 8 Total acumulado 8548.0 Contaminante 12 Total acumulado 13872.0 Contaminante 14 Total acumulado 14059.0 /n Estacion 55 Contaminante 7 Total acumulado 4152.0 Contaminante 8 Total acumulado 9275.0 Contaminante 10 Total acumulado 5381.0 Contaminante 12 Total acumulado 15638.0 Contaminante 20 Total acumulado 318.20000000000005 Contaminante 30 Total acumulado 83.20000000000005 Contaminante 35 Total acumulado 61.40000000000006 Contaminante 42 Total acumulado 353.50000000000006 Contaminante 43 Total acumulado 323.2100000000003 Contaminante 44 Total acumulado 30.459999999999972 /n Estacion 56 Contaminante 6 Total acumulado 76.30000000000008 Contaminante 7 Total acumulado 9535.0 Contaminante 8 Total acumulado 13286.0 Contaminante 9 Total acumulado 2859.0 Contaminante 10 Total acumulado 5174.0 Contaminante 12 Total acumulado 27888.0 Contaminante 14 Total acumulado 12441.0 /n Estacion 57 Contaminante 1 Total acumulado 2325.0 Contaminante 6 Total acumulado 66.40000000000016 Contaminante 7 Total acumulado 2561.0 Contaminante 8 Total acumulado 7325.0 Contaminante 10 Total acumulado 3689.0 Contaminante 12 Total acumulado 11251.0 /n Estacion 58 Contaminante 7 Total acumulado 905.0 Contaminante 8 Total acumulado 3702.0 Contaminante 12 Total acumulado 5098.0 Contaminante 14 Total acumulado 16015.0 /n Estacion 59 Contaminante 7 Total acumulado 1803.0 Contaminante 8 Total acumulado 5541.0 Contaminante 12 Total acumulado 8298.0 Contaminante 14 Total acumulado 14401.0 /n Estacion 60 Contaminante 7 Total acumulado 2317.0 Contaminante 8 Total acumulado 6112.0 Contaminante 10 Total acumulado 3708.0 Contaminante 12 Total acumulado 9656.0 /n \n"
     ]
    }
   ],
   "source": [
    "import csv\n",
    "import re\n",
    "\n",
    "csvarchivo = open('Contaminación.csv',encoding=\"utf8\",errors='ignore')\n",
    "entrada = csv.reader(csvarchivo, delimiter=\";\")\n",
    "contador1 = 0\n",
    "verifica = 'V'\n",
    "patron = re.compile(verifica)\n",
    "indicesValorar = []\n",
    "indicesDatos = []\n",
    "magnitudes=[]\n",
    "estaciones=[]\n",
    "estacionActual = None\n",
    "magnitudActual = None\n",
    "contadorActual = 0\n",
    "contadoresEstacionActual = []\n",
    "tablaDatos = []\n",
    "cogidos = False\n",
    "for i in entrada:\n",
    "    if cogidos == False:\n",
    "        for j in i:\n",
    "            if(patron.match(j)):\n",
    "                indicesValorar.append(contador1)\n",
    "                indicesDatos.append(contador1-1)\n",
    "            contador1+=1\n",
    "        cogidos=True\n",
    "    else:\n",
    "        for indice in indicesValorar:\n",
    "            if i[indice]==\"N\":\n",
    "                i[indice-1] = 0\n",
    "        if estacionActual == None:\n",
    "            estacionActual = i[2]\n",
    "            magnitudActual = i[3]\n",
    "            for dato in indicesDatos:\n",
    "                contadorActual+=float(i[dato])\n",
    "        elif estacionActual != i[2]:\n",
    "            contadoresEstacionActual.append([magnitudActual, contadorActual])\n",
    "            tablaDatos.append([estacionActual, contadoresEstacionActual])\n",
    "            estacionActual = i[2]\n",
    "            magnitudActual = i[3]\n",
    "            contadorActual = 0\n",
    "            for dato in indicesDatos:\n",
    "                contadorActual+=float(i[dato])\n",
    "            contadoresEstacionActual = []\n",
    "        else:\n",
    "            if magnitudActual == i[3]:\n",
    "                for dato in indicesDatos:\n",
    "                    contadorActual+=float(i[dato])\n",
    "            else:\n",
    "                contadoresEstacionActual.append([magnitudActual, contadorActual])\n",
    "                magnitudActual = i[3]\n",
    "                contadorActual = 0\n",
    "                for dato in indicesDatos:\n",
    "                    contadorActual+=float(i[dato])\n",
    "tablaDatos.append([estacionActual, contadoresEstacionActual])\n",
    "\n",
    "tablaFinal = \"\"\n",
    "for i in tablaDatos:\n",
    "    tablaFinal += \"Estacion \" + i[0]\n",
    "    for j in i[1]:\n",
    "        tablaFinal += \" Contaminante \" + j[0] + \" Total acumulado \" + str(j[1])\n",
    "    tablaFinal += ' /n '\n",
    "    \n",
    "print(tablaFinal)\n",
    "   \n"
   ]
  },
  {
   "cell_type": "markdown",
   "metadata": {},
   "source": [
    "#### Ejercicio 2[5 puntos]\n",
    "Considerar los archivos  __Estaciones.csv__ y __Museos.json__ que incluye información sobre las estaciones de control de la calidad del aire y sobre los museos de Madrid respectivamente.\n",
    "\n",
    "El objetivo de este ejercicio es utilizar la información obtenida en el ejercicio 1 de forma que para cada uno de los museos que aparece en el archivo dado realice las siguientes operaciones:\n",
    "* Obtener las 3 estaciones más cercanas a cada museo.\n",
    "* Obtener y mostrar por pantalla para cada museo la siguiente información donde ValorX es el subtotal del nivel de contaminación más alto de todos los contaminantes medidos en la estaciónX, y TipoContaminanteX es el tipo del contaminante cuyo valor es mostrado en la celda anterior.\n",
    "\n",
    "|Museo|Estación1|TipoContaminante1| Estación2|TipoContaminante2| Estación3|TipoContaminante3|\n",
    "|----|-------------|-------------|-------------|----|----|----|\n",
    "|Museo1|Valor1 |Tipo1 |Valor2|Tipo2|Valor3|  Tipo3 |\n",
    "|Museo2|--- |--- |--- |--- | --- | --- | \n",
    "|   ...|--- |--- |--- |--- | --- | --- |     \n",
    "|Museon|Valor1 |Tipo1 |Valor2|Tipo2|Valor3|  Tipo3 |\n",
    "\n",
    "* Generar un documento __Salida.json__ con la siguiente estructura:"
   ]
  },
  {
   "cell_type": "raw",
   "metadata": {},
   "source": [
    "{\n",
    "  \"año\": 2019,\n",
    "  \"fuente\": \"Ayuntamiento de Madrid\",\n",
    "  \"museos\": [\n",
    "    {\n",
    "      \"museo\": \"Museo xxxx\",\n",
    "      \"Estación 1\": {\n",
    "        \"Nombre\": \"Estación X\",\n",
    "        \"Valor\": XX,\n",
    "        \"Tipo\":TipoContaminante\n",
    "      },\n",
    "      \"Estación 2\": {\n",
    "        \"Nombre\": \"Estación Y\",\n",
    "        \"Valor\": XX,\n",
    "        \"Tipo\":TipoContaminante\n",
    "      },\n",
    "      \"Estación 3\": {\n",
    "        \"Nombre\": \"Estación Z\",\n",
    "        \"Valor\": XX,\n",
    "        \"Tipo\":TipoContaminante\n",
    "      }\n",
    "    },\n",
    "    ...\n",
    "    {\n",
    "      \"museo\": \"Museo xxxx\",\n",
    "      \"Estación 1\": {\n",
    "        \"Nombre\": \"Estación X\",\n",
    "        \"Valor\": XX,\n",
    "        \"Tipo\":TipoContaminante\n",
    "      },\n",
    "      \"Estación 2\": {\n",
    "        \"Nombre\": \"Estación Y\",\n",
    "        \"Valor\": XX,\n",
    "        \"Tipo\":TipoContaminante\n",
    "      },\n",
    "      \"Estación 3\": {\n",
    "        \"Nombre\": \"Estación Z\",\n",
    "        \"Valor\": XX,\n",
    "        \"Tipo\":TipoContaminante\n",
    "      }\n",
    "    }\n",
    "  ]\n",
    "}"
   ]
  },
  {
   "cell_type": "markdown",
   "metadata": {},
   "source": [
    "Tanto en lo que mostréis por pantalla como lo que escribáis en el archivo usad los nombres de los contaminantes y de las estaciones que aparecen en los anexos de la documentación indicada más arriba.\n",
    "\n",
    "Para leer los archivos usa un código como el siguiente:"
   ]
  },
  {
   "cell_type": "code",
   "execution_count": null,
   "metadata": {},
   "outputs": [],
   "source": [
    "import json\n",
    "leer = json.loads(open('Museos.json',encoding=\"utf8\").read())\n",
    "print(leer)"
   ]
  },
  {
   "cell_type": "markdown",
   "metadata": {},
   "source": [
    "En los documentos __Estación.csv__ y __Museos.json__ aparece la información de geolocalización en forma de longitud y latitud tanto de las estaciones como de los museos. En este sentido, para calcular la distancia entre dos puntos dadas sus coordenadas se utilizará la siguiente función en Python:"
   ]
  },
  {
   "cell_type": "raw",
   "metadata": {},
   "source": [
    "import math\n",
    "\n",
    "def haversine(lat1, lon1, lat2, lon2):\n",
    "    rad=math.pi/180\n",
    "    dlat=lat2-lat1\n",
    "    dlon=lon2-lon1\n",
    "    R=6372.795477598\n",
    "    a=(math.sin(rad*dlat/2))**2 + math.cos(rad*lat1)*math.cos(rad*lat2)*(math.sin(rad*dlon/2))**2\n",
    "    distancia=2*R*math.asin(math.sqrt(a))\n",
    "    return distancia"
   ]
  },
  {
   "cell_type": "markdown",
   "metadata": {},
   "source": [
    "#### Normas de entrega\n",
    "\n",
    "* Fecha tope de entrega: 03/10/2019\n",
    "* La entrega se realizará subiendo al campus virtual un notebook de Jupyter con la solución. El archivo tendrá como nombre FormatosI_GrupoX donde X será el número de grupo correspondiente."
   ]
  }
 ],
 "metadata": {
  "kernelspec": {
   "display_name": "Python 3",
   "language": "python",
   "name": "python3"
  },
  "language_info": {
   "codemirror_mode": {
    "name": "ipython",
    "version": 3
   },
   "file_extension": ".py",
   "mimetype": "text/x-python",
   "name": "python",
   "nbconvert_exporter": "python",
   "pygments_lexer": "ipython3",
   "version": "3.7.3"
  }
 },
 "nbformat": 4,
 "nbformat_minor": 2
}
