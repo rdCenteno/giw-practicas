{
 "cells": [
  {
   "cell_type": "markdown",
   "metadata": {},
   "source": [
    "### Práctica de Introducción al lenguaje Python"
   ]
  },
  {
   "cell_type": "markdown",
   "metadata": {},
   "source": [
    "#### Ejercicio 1[4 puntos]\n",
    "Un autómata finito deteminista (AFD) es una modelo matemática que permite representar un tipo de lenguaje formal denominado lenguaje regular. Se caracterizan por un alfabeto, un conjunto finito de estados, un estado inicial, un conjunto de estados finales y una función de transición. La función de transición toma un estado  y  un símbolo,  y devuelve como resultado un estado.\n",
    "El automáta toma como entrada una cadena, y aplica la función de transición sucesivamente sobre los elementos de la entrada. Una vez que ha consumido toda la cadena, se mira el estado al que se ha llegado, y si es un estado final entonces la entrada es aceptada. En caso contrario, la cadena no es aceptada.\n",
    "\n",
    "Se pide simular un AFD que tomará como entrada una cadena que representa la entrada, una lista de tuplas donde cada tupla representa un estado y un símbolo representando la función de transición, un conjunto de estado representando el conjunto de estados finales y un estado representando el estado inicial. El programa ante una entrada dirá si la cadena es aceptada o no lo es.\n",
    "\n",
    "Intentad estructurar el programa separando lo que es el programa que acepta la entrada y nos dice si es aceptado o no, y el programa que simula el AFD.\n",
    "\n",
    "Más información: https://en.wikipedia.org/wiki/Deterministic_finite_automaton\n",
    "\n",
    "No se pueden usar ninguna función o método que simule un AFD."
   ]
  },
  {
   "cell_type": "markdown",
   "metadata": {},
   "source": [
    "#### Ejercicio 2[4 puntos]\n",
    "Considera el problema de cálculo del determinante de una matriz cuadrado de cualquier orden:\n",
    "https://es.wikipedia.org/wiki/Determinante_(matem%C3%A1tica)\n",
    "\n",
    "Se pide implementar un programa que dada una matriz expresada en forma de una lista de listas donde cada lista representa una fila de la matriz, devuelva el determinante de dicha matriz.\n",
    "\n",
    "No se pueden usar ninguna función o método que calcule directamente el determinante."
   ]
  },
  {
   "cell_type": "markdown",
   "metadata": {},
   "source": [
    "#### Ejercicio 3[2 puntos]\n",
    "Implementar un programa en Python tal que tomecomo entrada el nombre de dos archivos de texto. En un archivo hay un conjunto de palabras separadas por coma en una linea y en el otro archivo un texto cualquiera. El programa debe buscar las palabras del primer archivo en el texto del segundo archivo. Como resultado debe mostrar por pantalla cada palabra buscada y junto a ella el núméro de veces que aparece la palabra en el texto. En caso de no aparecer se indicará que no aparece esa palabra. Para realizar la búsqueda no se distingue entre mayúsculas y minúsculas. \n",
    "\n",
    "No se pueden usar ninguna función o método que realice directamente el procesamiento."
   ]
  },
  {
   "cell_type": "markdown",
   "metadata": {},
   "source": [
    "#### Normas de entrega\n",
    "\n",
    "* Fecha tope de entrega: 26/09/2019\n",
    "* La entrega se realizará subiendo al campus virtual un notebook de Jupyter con la solución. El archivo tendrá como nombre IntroPython_GrupoX donde X será el número de grupo correspondiente."
   ]
  },
  {
   "cell_type": "code",
   "execution_count": null,
   "metadata": {},
   "outputs": [],
   "source": [
    "##Nos dan cadena, conjunto estados, estado inicial, estados finales y formula transicion\n",
    "\n",
    "##String con la entrada\n",
    "##Conjunto de estados en una lista\n",
    "##Conjunto de estados finales en otra lista\n",
    "##Funcion de transicion en una lista de tuplas/listas, cada una es una tripleta (estado, simbolo, estado)\n",
    "##Estado inicial\n",
    "\n",
    "\n",
    "def tratarEntrada(entrada, estadoAct, formulas):\n",
    "    valida = False\n",
    "    for f in formulas:\n",
    "        if (f[0]==estadoAct and f[1]==entrada):\n",
    "            estadoAct = f[2]\n",
    "            valida = True\n",
    "            break\n",
    "    if (valida == False):\n",
    "        return None    \n",
    "    return estadoAct\n",
    "\n",
    "def automata(cadena, estados, estadoIni, estadosFinal, formulas):\n",
    "    estadoAct = estadoIni\n",
    "    for c in cadena:\n",
    "        estadoAct = tratarEntrada(c, estadoAct, formulas)\n",
    "        if (estadoAct == None):\n",
    "            break\n",
    "    if (estadoAct in estadosFinal):\n",
    "        print(\"Cadena aceptada\")\n",
    "    else:\n",
    "        print(\"Cadena no aceptada\")\n",
    "        \n",
    "\n",
    "\n",
    "\n",
    "\n",
    "automata(\"abababaa\", [\"q0\",\"q1\",\"q2\"], \"q0\", [\"q2\"], [[\"q0\",\"a\",\"q1\"],[\"q0\",\"b\",\"q2\"],[\"q1\",\"a\",\"q2\"],[\"q1\",\"b\",\"q0\"],\n",
    "                                                      [\"q2\",\"a\",\"q2\"],[\"q2\",\"b\",\"q2\"]])\n"
   ]
  },
  {
   "cell_type": "code",
   "execution_count": 5,
   "metadata": {},
   "outputs": [
    {
     "name": "stdout",
     "output_type": "stream",
     "text": [
      "9\n"
     ]
    }
   ],
   "source": [
    "# Ejercicio 2\n",
    "\n",
    "matriz = [\n",
    "    [2, 3],\n",
    "    [1, 3]\n",
    "]\n",
    "\n",
    "def calcula_determinante(matriz):\n",
    "    suma = 0\n",
    "    rango = len(matriz[0])\n",
    "    for i in range(rango):\n",
    "        k = i\n",
    "        sumaParcial = 1\n",
    "        for j in range(rango):\n",
    "            if k == rango:\n",
    "                k = 0\n",
    "            sumaParcial = sumaParcial * matriz[j][k]\n",
    "            k = k + 1\n",
    "        suma += sumaParcial\n",
    "    return suma\n",
    "    \n",
    "    \n",
    "print(calcula_determinante(matriz))\n",
    "    \n",
    "    \n",
    "    \n",
    "    \n",
    "    \n",
    "    \n",
    "    "
   ]
  },
  {
   "cell_type": "code",
   "execution_count": 6,
   "metadata": {},
   "outputs": [],
   "source": [
    "##1ºArchivo palabras separadas por comas\n",
    "##2ºArchivo un texto\n",
    "##Contabilizar si aparecen y nº de apariciones, no distincion mayus y minus"
   ]
  },
  {
   "cell_type": "code",
   "execution_count": null,
   "metadata": {},
   "outputs": [],
   "source": []
  }
 ],
 "metadata": {
  "anaconda-cloud": {},
  "kernelspec": {
   "display_name": "Python 3",
   "language": "python",
   "name": "python3"
  },
  "language_info": {
   "codemirror_mode": {
    "name": "ipython",
    "version": 3
   },
   "file_extension": ".py",
   "mimetype": "text/x-python",
   "name": "python",
   "nbconvert_exporter": "python",
   "pygments_lexer": "ipython3",
   "version": "3.7.3"
  }
 },
 "nbformat": 4,
 "nbformat_minor": 1
}
